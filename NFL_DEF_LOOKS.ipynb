{
  "nbformat": 4,
  "nbformat_minor": 0,
  "metadata": {
    "colab": {
      "provenance": [],
      "authorship_tag": "ABX9TyOAWGB6cQJSaGIvbmaiBMFX",
      "include_colab_link": true
    },
    "kernelspec": {
      "name": "python3",
      "display_name": "Python 3"
    },
    "language_info": {
      "name": "python"
    }
  },
  "cells": [
    {
      "cell_type": "markdown",
      "metadata": {
        "id": "view-in-github",
        "colab_type": "text"
      },
      "source": [
        "<a href=\"https://colab.research.google.com/github/PSN-01/NFL-DEF-STATS/blob/main/NFL_DEF_LOOKS.ipynb\" target=\"_parent\"><img src=\"https://colab.research.google.com/assets/colab-badge.svg\" alt=\"Open In Colab\"/></a>"
      ]
    },
    {
      "cell_type": "code",
      "execution_count": null,
      "metadata": {
        "id": "QRCY5_XOfASx"
      },
      "outputs": [],
      "source": [
        "!pip install nfl_data_py\n",
        "\n",
        "\"\"\"\n",
        "  Available teams starting from the 2016 season:\n",
        "    team_abbr              team_name\n",
        "  0        ARI      Arizona Cardinals\n",
        "  1        ATL        Atlanta Falcons\n",
        "  2        BAL       Baltimore Ravens\n",
        "  3        BUF          Buffalo Bills\n",
        "  4        CAR      Carolina Panthers\n",
        "  5        CHI          Chicago Bears\n",
        "  6        CIN     Cincinnati Bengals\n",
        "  7        CLE       Cleveland Browns\n",
        "  8        DAL         Dallas Cowboys\n",
        "  9        DEN         Denver Broncos\n",
        "  10       DET          Detroit Lions\n",
        "  11        GB      Green Bay Packers\n",
        "  12       HOU         Houston Texans\n",
        "  13       IND     Indianapolis Colts\n",
        "  14       JAX   Jacksonville Jaguars\n",
        "  15        KC     Kansas City Chiefs\n",
        "  16        LA       Los Angeles Rams\n",
        "  17       LAC   Los Angeles Chargers\n",
        "  19        LV      Las Vegas Raiders\n",
        "  20       MIA         Miami Dolphins\n",
        "  21       MIN      Minnesota Vikings\n",
        "  22        NE   New England Patriots\n",
        "  23        NO     New Orleans Saints\n",
        "  24       NYG        New York Giants\n",
        "  25       NYJ          New York Jets\n",
        "  27       PHI    Philadelphia Eagles\n",
        "  28       PIT    Pittsburgh Steelers\n",
        "  30       SEA       Seattle Seahawks\n",
        "  31        SF    San Francisco 49ers\n",
        "  33        TB   Tampa Bay Buccaneers\n",
        "  34       TEN       Tennessee Titans\n",
        "  35       WAS  Washington Commanders\n",
        "\"\"\""
      ]
    },
    {
      "cell_type": "markdown",
      "source": [],
      "metadata": {
        "id": "yx_xny6AfHr4"
      }
    },
    {
      "cell_type": "code",
      "source": [
        "import nfl_data_py as nfl\n",
        "\n",
        "# Function to get the top 5 defensive formations, analyze blitz plays, and coverage types\n",
        "def get_top_formations_and_blitz_by_team_and_year(team_abbr, year):\n",
        "    # Import Play-by-Play data for the selected year\n",
        "    pbp_data = nfl.import_pbp_data([year])\n",
        "\n",
        "    # Filter data for the selected team (defense only)\n",
        "    team_defense = pbp_data[pbp_data['defteam'] == team_abbr]\n",
        "\n",
        "    # Group by defensive personnel and count occurrences\n",
        "    top_defensive_formations = team_defense['defense_personnel'].value_counts().head(5)\n",
        "\n",
        "    # Analyze blitz plays by checking for 'number_of_pass_rushers' column\n",
        "    if 'number_of_pass_rushers' in pbp_data.columns:\n",
        "        blitz_plays = team_defense[team_defense['number_of_pass_rushers'] > 0]  # Blitz: rushers\n",
        "    else:\n",
        "        print(\"Warning: 'number_of_pass_rushers' column not found. Using QB hits as a proxy for blitz.\")\n",
        "        blitz_plays = team_defense[team_defense['qb_hit'] == 1]  # Fallback to QB hits\n",
        "\n",
        "    # Calculate blitz percentage\n",
        "    total_defensive_plays = len(team_defense)\n",
        "    blitz_pct = (len(blitz_plays) / total_defensive_plays) * 100 if total_defensive_plays > 0 else 0\n",
        "\n",
        "    # Analyze man vs. zone defense, if the columns exist\n",
        "    if 'defense_man_zone_type' in pbp_data.columns:\n",
        "        man_zone_counts = team_defense['defense_man_zone_type'].value_counts()\n",
        "    else:\n",
        "        man_zone_counts = \"Column 'defense_man_zone_type' not found.\"\n",
        "\n",
        "    # Analyze coverage type, if the column exists\n",
        "    if 'defense_coverage_type' in pbp_data.columns:\n",
        "        coverage_counts = team_defense['defense_coverage_type'].value_counts()\n",
        "    else:\n",
        "        coverage_counts = \"Column 'defense_coverage_type' not found.\"\n",
        "\n",
        "    return top_defensive_formations, blitz_pct, man_zone_counts, coverage_counts\n",
        "\n",
        "\n",
        "# Get user input for team and year\n",
        "team_abbr = input(\"\\nEnter the team abbreviation: \")\n",
        "\n",
        "year = int(input(\"Enter the year (2016 - 2024): \"))\n",
        "while year < 2016 or year > 2024:\n",
        "    year = int(input(\"Please enter a valid year between 2016 and 2024: \"))\n",
        "\n",
        "# Get formations, blitz percentage, and coverage types\n",
        "defensive_formations, blitz_pct, man_zone_counts, coverage_counts = get_top_formations_and_blitz_by_team_and_year(team_abbr, year)\n",
        "\n",
        "man_zone_pct = (man_zone_counts / man_zone_counts.sum()) * 100\n",
        "\n",
        "# Print results\n",
        "print(f\"\\nTop 5 defensive formations for {team_abbr} in {year}:\")\n",
        "print(defensive_formations)\n",
        "\n",
        "print(f\"\\nBlitz percentage for {team_abbr} in {year}: {blitz_pct:.2f}%\")\n",
        "\n",
        "print(f\"\\nMan vs. Zone defense counts for {team_abbr} in {year}:\")\n",
        "for defense_type, count in man_zone_counts.items():\n",
        "    pct = man_zone_pct[defense_type]\n",
        "    print(f\"{defense_type}: {count} plays ({pct:.2f}%)\")\n",
        "\n",
        "print(f\"\\nCoverage type counts for {team_abbr} in {year}:\")\n",
        "print(coverage_counts)\n"
      ],
      "metadata": {
        "id": "_1icT-JofOO7",
        "colab": {
          "base_uri": "https://localhost:8080/"
        },
        "outputId": "fc0cac9b-5f91-4f95-f516-1b3bcef2c779"
      },
      "execution_count": 18,
      "outputs": [
        {
          "output_type": "stream",
          "name": "stdout",
          "text": [
            "\n",
            "Enter the team abbreviation: MIN\n",
            "Enter the year (2016 - 2024): 2023\n",
            "2023 done.\n",
            "Downcasting floats.\n",
            "\n",
            "Top 5 defensive formations for MIN in 2023:\n",
            "2 DL, 4 LB, 5 DB    350\n",
            "3 DL, 3 LB, 5 DB    243\n",
            "0 DL, 5 LB, 6 DB     99\n",
            "1 DL, 4 LB, 6 DB     89\n",
            "0 DL, 4 LB, 7 DB     75\n",
            "Name: defense_personnel, dtype: int64\n",
            "\n",
            "Blitz percentage for MIN in 2023: 42.30%\n",
            "\n",
            "Man vs. Zone defense counts for MIN in 2023:\n",
            "ZONE_COVERAGE: 418 plays (78.42%)\n",
            "MAN_COVERAGE: 115 plays (21.58%)\n",
            "\n",
            "Coverage type counts for MIN in 2023:\n",
            "COVER_3    189\n",
            "COVER_2    158\n",
            "COVER_0     74\n",
            "COVER_4     56\n",
            "COVER_1     38\n",
            "COVER_6     10\n",
            "PREVENT      5\n",
            "2_MAN        3\n",
            "Name: defense_coverage_type, dtype: int64\n"
          ]
        }
      ]
    }
  ]
}